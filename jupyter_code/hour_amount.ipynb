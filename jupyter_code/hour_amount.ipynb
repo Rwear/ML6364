{
 "cells": [
  {
   "cell_type": "code",
   "execution_count": 1,
   "metadata": {
    "collapsed": true
   },
   "outputs": [],
   "source": [
    "import pandas as pd\n",
    "import seaborn as sns\n",
    "import matplotlib.pyplot as plt\n",
    "import numpy as np"
   ]
  },
  {
   "cell_type": "code",
   "execution_count": 2,
   "outputs": [
    {
     "name": "stderr",
     "output_type": "stream",
     "text": [
      "C:\\Users\\27143\\AppData\\Local\\Temp\\ipykernel_3216\\1702762657.py:1: DtypeWarning: Columns (6) have mixed types. Specify dtype option on import or set low_memory=False.\n",
      "  data = pd.read_csv('../NY_sample.csv')\n"
     ]
    }
   ],
   "source": [
    "data = pd.read_csv('../NY_sample.csv')\n",
    "data = data.drop(['store_and_fwd_flag', 'congestion_surcharge', 'payment_type'], axis=1)\n",
    "# Convert to datetime and extract features\n",
    "data['tpep_pickup_datetime'] = pd.to_datetime(data['tpep_pickup_datetime'])\n",
    "data['tpep_dropoff_datetime'] = pd.to_datetime(data['tpep_dropoff_datetime'])\n",
    "data['pickup_hour'] = data['tpep_pickup_datetime'].dt.hour\n",
    "data['pickup_day_of_week'] = data['tpep_pickup_datetime'].dt.dayofweek\n",
    "data['pickup_month'] = data['tpep_pickup_datetime'].dt.month\n",
    "data['dropoff_hour'] = data['tpep_dropoff_datetime'].dt.hour\n",
    "data['dropoff_day_of_week'] = data['tpep_dropoff_datetime'].dt.dayofweek\n",
    "data['dropoff_month'] = data['tpep_dropoff_datetime'].dt.month"
   ],
   "metadata": {
    "collapsed": false
   }
  },
  {
   "cell_type": "code",
   "execution_count": 3,
   "outputs": [
    {
     "name": "stdout",
     "output_type": "stream",
     "text": [
      "0         0\n",
      "1         0\n",
      "2         0\n",
      "3         0\n",
      "4         0\n",
      "         ..\n",
      "549755    1\n",
      "549756    1\n",
      "549757    1\n",
      "549758    1\n",
      "549759    1\n",
      "Name: pickup_day_of_week, Length: 549760, dtype: int64\n"
     ]
    }
   ],
   "source": [
    "print(data['pickup_day_of_week'])"
   ],
   "metadata": {
    "collapsed": false
   }
  },
  {
   "cell_type": "code",
   "execution_count": 4,
   "outputs": [
    {
     "ename": "ValueError",
     "evalue": "operands could not be broadcast together with shape (440773,) (122,)",
     "output_type": "error",
     "traceback": [
      "\u001B[1;31m---------------------------------------------------------------------------\u001B[0m",
      "\u001B[1;31mValueError\u001B[0m                                Traceback (most recent call last)",
      "Input \u001B[1;32mIn [4]\u001B[0m, in \u001B[0;36m<cell line: 33>\u001B[1;34m()\u001B[0m\n\u001B[0;32m     32\u001B[0m time_range_data \u001B[38;5;241m=\u001B[39m {}\n\u001B[0;32m     33\u001B[0m \u001B[38;5;28;01mfor\u001B[39;00m time_range \u001B[38;5;129;01min\u001B[39;00m time_ranges:\n\u001B[1;32m---> 34\u001B[0m     time_range_data[time_range] \u001B[38;5;241m=\u001B[39m \u001B[43mcalculate_tip_percentage_distribution\u001B[49m\u001B[43m(\u001B[49m\u001B[43mdata\u001B[49m\u001B[43m[\u001B[49m\u001B[43mdata\u001B[49m\u001B[43m[\u001B[49m\u001B[38;5;124;43m'\u001B[39;49m\u001B[38;5;124;43mpickup_hour_range\u001B[39;49m\u001B[38;5;124;43m'\u001B[39;49m\u001B[43m]\u001B[49m\u001B[43m \u001B[49m\u001B[38;5;241;43m==\u001B[39;49m\u001B[43m \u001B[49m\u001B[43mtime_range\u001B[49m\u001B[43m]\u001B[49m\u001B[43m)\u001B[49m\n\u001B[0;32m     36\u001B[0m \u001B[38;5;66;03m# Plot the tip percentage distribution for each time range\u001B[39;00m\n\u001B[0;32m     37\u001B[0m plt\u001B[38;5;241m.\u001B[39mfigure(figsize\u001B[38;5;241m=\u001B[39m(\u001B[38;5;241m12\u001B[39m, \u001B[38;5;241m8\u001B[39m))\n",
      "Input \u001B[1;32mIn [4]\u001B[0m, in \u001B[0;36mcalculate_tip_percentage_distribution\u001B[1;34m(time_range_data)\u001B[0m\n\u001B[0;32m     26\u001B[0m \u001B[38;5;28;01mdef\u001B[39;00m \u001B[38;5;21mcalculate_tip_percentage_distribution\u001B[39m(time_range_data):\n\u001B[1;32m---> 27\u001B[0m     tip_percentage_counts \u001B[38;5;241m=\u001B[39m \u001B[43mtime_range_data\u001B[49m\u001B[38;5;241;43m.\u001B[39;49m\u001B[43mgroupby\u001B[49m\u001B[43m(\u001B[49m\u001B[43mpd\u001B[49m\u001B[38;5;241;43m.\u001B[39;49m\u001B[43mcut\u001B[49m\u001B[43m(\u001B[49m\u001B[43mtime_range_data\u001B[49m\u001B[43m[\u001B[49m\u001B[38;5;124;43m'\u001B[39;49m\u001B[38;5;124;43mtrip_distance\u001B[39;49m\u001B[38;5;124;43m'\u001B[39;49m\u001B[43m]\u001B[49m\u001B[43m,\u001B[49m\u001B[43m \u001B[49m\u001B[43mdistance_bins\u001B[49m\u001B[43m)\u001B[49m\u001B[43m)\u001B[49m\u001B[43m[\u001B[49m\n\u001B[0;32m     28\u001B[0m \u001B[43m        \u001B[49m\u001B[38;5;124;43m'\u001B[39;49m\u001B[38;5;124;43mtip_percentage\u001B[39;49m\u001B[38;5;124;43m'\u001B[39;49m\u001B[43m]\u001B[49m\u001B[38;5;241;43m.\u001B[39;49m\u001B[43mvalue_counts\u001B[49m\u001B[43m(\u001B[49m\u001B[43mnormalize\u001B[49m\u001B[38;5;241;43m=\u001B[39;49m\u001B[38;5;28;43;01mTrue\u001B[39;49;00m\u001B[43m)\u001B[49m\u001B[38;5;241m.\u001B[39mreset_index(name\u001B[38;5;241m=\u001B[39m\u001B[38;5;124m'\u001B[39m\u001B[38;5;124mpercentage\u001B[39m\u001B[38;5;124m'\u001B[39m)\n\u001B[0;32m     29\u001B[0m     \u001B[38;5;28;01mreturn\u001B[39;00m tip_percentage_counts\n",
      "File \u001B[1;32mC:\\Python\\Python310\\lib\\site-packages\\pandas\\core\\groupby\\generic.py:697\u001B[0m, in \u001B[0;36mSeriesGroupBy.value_counts\u001B[1;34m(self, normalize, sort, ascending, bins, dropna)\u001B[0m\n\u001B[0;32m    693\u001B[0m codes \u001B[38;5;241m=\u001B[39m \u001B[38;5;28mself\u001B[39m\u001B[38;5;241m.\u001B[39mgrouper\u001B[38;5;241m.\u001B[39mreconstructed_codes\n\u001B[0;32m    694\u001B[0m \u001B[38;5;66;03m# error: Incompatible types in assignment (expression has type\u001B[39;00m\n\u001B[0;32m    695\u001B[0m \u001B[38;5;66;03m# \"List[ndarray[Any, dtype[_SCT]]]\",\u001B[39;00m\n\u001B[0;32m    696\u001B[0m \u001B[38;5;66;03m# variable has type \"List[ndarray[Any, dtype[signedinteger[Any]]]]\")\u001B[39;00m\n\u001B[1;32m--> 697\u001B[0m codes \u001B[38;5;241m=\u001B[39m [  \u001B[38;5;66;03m# type: ignore[assignment]\u001B[39;00m\n\u001B[0;32m    698\u001B[0m     rep(level_codes) \u001B[38;5;28;01mfor\u001B[39;00m level_codes \u001B[38;5;129;01min\u001B[39;00m codes\n\u001B[0;32m    699\u001B[0m ] \u001B[38;5;241m+\u001B[39m [llab(lab, inc)]\n\u001B[0;32m    700\u001B[0m \u001B[38;5;66;03m# error: List item 0 has incompatible type \"Union[ndarray[Any, Any], Index]\";\u001B[39;00m\n\u001B[0;32m    701\u001B[0m \u001B[38;5;66;03m# expected \"Index\"\u001B[39;00m\n\u001B[0;32m    702\u001B[0m levels \u001B[38;5;241m=\u001B[39m [ping\u001B[38;5;241m.\u001B[39mgroup_index \u001B[38;5;28;01mfor\u001B[39;00m ping \u001B[38;5;129;01min\u001B[39;00m \u001B[38;5;28mself\u001B[39m\u001B[38;5;241m.\u001B[39mgrouper\u001B[38;5;241m.\u001B[39mgroupings] \u001B[38;5;241m+\u001B[39m [\n\u001B[0;32m    703\u001B[0m     lev  \u001B[38;5;66;03m# type: ignore[list-item]\u001B[39;00m\n\u001B[0;32m    704\u001B[0m ]\n",
      "File \u001B[1;32mC:\\Python\\Python310\\lib\\site-packages\\pandas\\core\\groupby\\generic.py:698\u001B[0m, in \u001B[0;36m<listcomp>\u001B[1;34m(.0)\u001B[0m\n\u001B[0;32m    693\u001B[0m codes \u001B[38;5;241m=\u001B[39m \u001B[38;5;28mself\u001B[39m\u001B[38;5;241m.\u001B[39mgrouper\u001B[38;5;241m.\u001B[39mreconstructed_codes\n\u001B[0;32m    694\u001B[0m \u001B[38;5;66;03m# error: Incompatible types in assignment (expression has type\u001B[39;00m\n\u001B[0;32m    695\u001B[0m \u001B[38;5;66;03m# \"List[ndarray[Any, dtype[_SCT]]]\",\u001B[39;00m\n\u001B[0;32m    696\u001B[0m \u001B[38;5;66;03m# variable has type \"List[ndarray[Any, dtype[signedinteger[Any]]]]\")\u001B[39;00m\n\u001B[0;32m    697\u001B[0m codes \u001B[38;5;241m=\u001B[39m [  \u001B[38;5;66;03m# type: ignore[assignment]\u001B[39;00m\n\u001B[1;32m--> 698\u001B[0m     \u001B[43mrep\u001B[49m\u001B[43m(\u001B[49m\u001B[43mlevel_codes\u001B[49m\u001B[43m)\u001B[49m \u001B[38;5;28;01mfor\u001B[39;00m level_codes \u001B[38;5;129;01min\u001B[39;00m codes\n\u001B[0;32m    699\u001B[0m ] \u001B[38;5;241m+\u001B[39m [llab(lab, inc)]\n\u001B[0;32m    700\u001B[0m \u001B[38;5;66;03m# error: List item 0 has incompatible type \"Union[ndarray[Any, Any], Index]\";\u001B[39;00m\n\u001B[0;32m    701\u001B[0m \u001B[38;5;66;03m# expected \"Index\"\u001B[39;00m\n\u001B[0;32m    702\u001B[0m levels \u001B[38;5;241m=\u001B[39m [ping\u001B[38;5;241m.\u001B[39mgroup_index \u001B[38;5;28;01mfor\u001B[39;00m ping \u001B[38;5;129;01min\u001B[39;00m \u001B[38;5;28mself\u001B[39m\u001B[38;5;241m.\u001B[39mgrouper\u001B[38;5;241m.\u001B[39mgroupings] \u001B[38;5;241m+\u001B[39m [\n\u001B[0;32m    703\u001B[0m     lev  \u001B[38;5;66;03m# type: ignore[list-item]\u001B[39;00m\n\u001B[0;32m    704\u001B[0m ]\n",
      "File \u001B[1;32m<__array_function__ internals>:200\u001B[0m, in \u001B[0;36mrepeat\u001B[1;34m(*args, **kwargs)\u001B[0m\n",
      "File \u001B[1;32mC:\\Python\\Python310\\lib\\site-packages\\numpy\\core\\fromnumeric.py:479\u001B[0m, in \u001B[0;36mrepeat\u001B[1;34m(a, repeats, axis)\u001B[0m\n\u001B[0;32m    436\u001B[0m \u001B[38;5;129m@array_function_dispatch\u001B[39m(_repeat_dispatcher)\n\u001B[0;32m    437\u001B[0m \u001B[38;5;28;01mdef\u001B[39;00m \u001B[38;5;21mrepeat\u001B[39m(a, repeats, axis\u001B[38;5;241m=\u001B[39m\u001B[38;5;28;01mNone\u001B[39;00m):\n\u001B[0;32m    438\u001B[0m     \u001B[38;5;124;03m\"\"\"\u001B[39;00m\n\u001B[0;32m    439\u001B[0m \u001B[38;5;124;03m    Repeat elements of an array.\u001B[39;00m\n\u001B[0;32m    440\u001B[0m \n\u001B[1;32m   (...)\u001B[0m\n\u001B[0;32m    477\u001B[0m \n\u001B[0;32m    478\u001B[0m \u001B[38;5;124;03m    \"\"\"\u001B[39;00m\n\u001B[1;32m--> 479\u001B[0m     \u001B[38;5;28;01mreturn\u001B[39;00m \u001B[43m_wrapfunc\u001B[49m\u001B[43m(\u001B[49m\u001B[43ma\u001B[49m\u001B[43m,\u001B[49m\u001B[43m \u001B[49m\u001B[38;5;124;43m'\u001B[39;49m\u001B[38;5;124;43mrepeat\u001B[39;49m\u001B[38;5;124;43m'\u001B[39;49m\u001B[43m,\u001B[49m\u001B[43m \u001B[49m\u001B[43mrepeats\u001B[49m\u001B[43m,\u001B[49m\u001B[43m \u001B[49m\u001B[43maxis\u001B[49m\u001B[38;5;241;43m=\u001B[39;49m\u001B[43maxis\u001B[49m\u001B[43m)\u001B[49m\n",
      "File \u001B[1;32mC:\\Python\\Python310\\lib\\site-packages\\numpy\\core\\fromnumeric.py:57\u001B[0m, in \u001B[0;36m_wrapfunc\u001B[1;34m(obj, method, *args, **kwds)\u001B[0m\n\u001B[0;32m     54\u001B[0m     \u001B[38;5;28;01mreturn\u001B[39;00m _wrapit(obj, method, \u001B[38;5;241m*\u001B[39margs, \u001B[38;5;241m*\u001B[39m\u001B[38;5;241m*\u001B[39mkwds)\n\u001B[0;32m     56\u001B[0m \u001B[38;5;28;01mtry\u001B[39;00m:\n\u001B[1;32m---> 57\u001B[0m     \u001B[38;5;28;01mreturn\u001B[39;00m bound(\u001B[38;5;241m*\u001B[39margs, \u001B[38;5;241m*\u001B[39m\u001B[38;5;241m*\u001B[39mkwds)\n\u001B[0;32m     58\u001B[0m \u001B[38;5;28;01mexcept\u001B[39;00m \u001B[38;5;167;01mTypeError\u001B[39;00m:\n\u001B[0;32m     59\u001B[0m     \u001B[38;5;66;03m# A TypeError occurs if the object does have such a method in its\u001B[39;00m\n\u001B[0;32m     60\u001B[0m     \u001B[38;5;66;03m# class, but its signature is not identical to that of NumPy's. This\u001B[39;00m\n\u001B[1;32m   (...)\u001B[0m\n\u001B[0;32m     64\u001B[0m     \u001B[38;5;66;03m# Call _wrapit from within the except clause to ensure a potential\u001B[39;00m\n\u001B[0;32m     65\u001B[0m     \u001B[38;5;66;03m# exception has a traceback chain.\u001B[39;00m\n\u001B[0;32m     66\u001B[0m     \u001B[38;5;28;01mreturn\u001B[39;00m _wrapit(obj, method, \u001B[38;5;241m*\u001B[39margs, \u001B[38;5;241m*\u001B[39m\u001B[38;5;241m*\u001B[39mkwds)\n",
      "\u001B[1;31mValueError\u001B[0m: operands could not be broadcast together with shape (440773,) (122,)"
     ]
    }
   ],
   "source": [
    "# Filter the dataset for similar distance trips\n",
    "similar_distance_data = data\n",
    "\n",
    "# Create a new column for pickup hour ranges\n",
    "def map_hour_to_range(hour):\n",
    "    if 5 <= hour < 12:\n",
    "        return 'morning'\n",
    "    elif 12 <= hour < 17:\n",
    "        return 'afternoon'\n",
    "    elif 17 <= hour < 21:\n",
    "        return 'evening'\n",
    "    else:\n",
    "        return 'night'\n",
    "\n",
    "# Create the 'pickup_hour_range' column\n",
    "data['pickup_hour_range'] = data['pickup_hour'].apply(map_hour_to_range)\n",
    "\n",
    "# Calculate the tip percentage\n",
    "data['tip_percentage'] = (data['tip_amount'] / data['fare_amount']) * 100\n",
    "\n",
    "# Define the distance bins and time ranges\n",
    "distance_bins = np.arange(0, data['trip_distance'].max() + 0.5, 0.5)\n",
    "time_ranges = ['morning', 'afternoon', 'evening', 'night']\n",
    "\n",
    "# Function to calculate the tip percentage distribution for a given time range\n",
    "def calculate_tip_percentage_distribution(time_range_data):\n",
    "    tip_percentage_counts = time_range_data.groupby(pd.cut(time_range_data['trip_distance'], distance_bins))[\n",
    "        'tip_percentage'].value_counts(normalize=True).reset_index(name='percentage')\n",
    "    return tip_percentage_counts\n",
    "\n",
    "# Calculate the tip percentage distribution for each time range\n",
    "time_range_data = {}\n",
    "for time_range in time_ranges:\n",
    "    time_range_data[time_range] = calculate_tip_percentage_distribution(data[data['pickup_hour_range'] == time_range])\n",
    "\n",
    "# Plot the tip percentage distribution for each time range\n",
    "plt.figure(figsize=(12, 8))\n",
    "for time_range in time_ranges:\n",
    "    sns.lineplot(data=time_range_data[time_range], x='tip_percentage', y='percentage', label=time_range)\n",
    "\n",
    "plt.xlabel('Tip Percentage')\n",
    "plt.ylabel('Percentage of People Paying Tip')\n",
    "plt.title('Tip Percentage Distribution by Time Range')\n",
    "plt.legend()\n",
    "plt.show()\n",
    "\n",
    "\n"
   ],
   "metadata": {
    "collapsed": false
   }
  },
  {
   "cell_type": "code",
   "execution_count": null,
   "outputs": [],
   "source": [
    "similar_distance_data = data[(data['trip_distance'] >= 1) & (data['trip_distance'] <= 1.5)]\n",
    "\n",
    "# Create a new column for pickup hour ranges\n",
    "def map_hour_to_range(hour):\n",
    "    if 5 <= hour < 12:\n",
    "        return 'morning'\n",
    "    elif 12 <= hour < 19:\n",
    "        return 'afternoon'\n",
    "    elif 19 <= hour < 21:\n",
    "        return 'evening'\n",
    "    else:\n",
    "        return 'night'\n",
    "\n",
    "def map_day_to_range(day):\n",
    "    if 0 <= day < 5:\n",
    "        return 'weekday'\n",
    "    else:\n",
    "        return 'weekend'\n",
    "\n",
    "similar_distance_data['pickup_hour_range'] = similar_distance_data['pickup_hour'].apply(map_hour_to_range)\n",
    "similar_distance_data['pickup_day_range'] = similar_distance_data['pickup_day_of_week'].apply(map_day_to_range)\n",
    "similar_distance_data['percent_not_tipped'] = 1 - (similar_distance_data['total_amount'] - similar_distance_data['tip_amount']) / similar_distance_data['total_amount']\n"
   ],
   "metadata": {
    "collapsed": false
   }
  },
  {
   "cell_type": "code",
   "execution_count": null,
   "outputs": [],
   "source": [
    "print(similar_distance_data['pickup_day_range'])"
   ],
   "metadata": {
    "collapsed": false
   }
  },
  {
   "cell_type": "code",
   "execution_count": null,
   "outputs": [],
   "source": [
    "\n",
    "# Filter the dataset for the required pickup hour ranges\n",
    "count_1 = similar_distance_data[similar_distance_data['passenger_count'] == 1]\n",
    "count_2 = similar_distance_data[similar_distance_data['passenger_count'] == 2]\n",
    "count_3 = similar_distance_data[similar_distance_data['passenger_count'] == 3]\n",
    "count_4 = similar_distance_data[similar_distance_data['passenger_count'] == 4]\n",
    "count_5 = similar_distance_data[similar_distance_data['passenger_count'] == 5]\n",
    "count_6 = similar_distance_data[similar_distance_data['passenger_count'] == 6]\n",
    "\n",
    "# Define the bins for the percent_not_tipped values\n",
    "bins = np.arange(0, 1, 0.01)\n",
    "\n",
    "# Calculate the percentage of passengers falling in each bin for each pickup hour range\n",
    "c1_pct = np.histogram(count_1['percent_not_tipped'], bins=bins)[0] / len(count_1) * 100\n",
    "c2_pct = np.histogram(count_1['percent_not_tipped'], bins=bins)[0] / len(count_2) * 100\n",
    "c3_pct = np.histogram(count_1['percent_not_tipped'], bins=bins)[0] / len(count_3) * 100\n",
    "c4_pct = np.histogram(count_1['percent_not_tipped'], bins=bins)[0] / len(count_4) * 100\n",
    "c5_pct = np.histogram(count_1['percent_not_tipped'], bins=bins)[0] / len(count_5) * 100\n",
    "c6_pct = np.histogram(count_1['percent_not_tipped'], bins=bins)[0] / len(count_6) * 100\n",
    "\n",
    "# Define the x-axis labels for the bins\n",
    "bin_labels = [(bins[i] + bins[i+1]) / 2 for i in range(len(bins)-1)]\n",
    "\n",
    "# Define the colors for each line\n",
    "colors = ['red', 'blue', 'green', 'yellow','purple','white']\n",
    "\n",
    "# Plot the percentage of passengers in each bin for each pickup hour range\n",
    "fig, ax = plt.subplots(figsize=(8, 6))\n",
    "\n",
    "ax.plot(bin_labels, c1_pct, label='1', color= colors[0])\n",
    "ax.plot(bin_labels, c2_pct, label='2', color= colors[1])\n",
    "ax.plot(bin_labels, 1, label='3', color= colors[2])\n",
    "ax.plot(bin_labels, c4_pct, label='4', color= colors[3])\n",
    "ax.plot(bin_labels, c5_pct, label='5', color= colors[4])\n",
    "ax.plot(bin_labels, c6_pct, label='6', color= colors[5])\n",
    "\n",
    "\n",
    "ax.set_xlabel('Percent Not Tipped')\n",
    "ax.set_ylabel('Percentage of Passengers')\n",
    "ax.set_title('Percentage of Passengers by Percent Tipped and Pickup Hour Range')\n",
    "ax.legend()\n",
    "plt.figure(figsize=(240,120))\n",
    "plt.show()\n",
    "\n"
   ],
   "metadata": {
    "collapsed": false
   }
  },
  {
   "cell_type": "code",
   "execution_count": null,
   "outputs": [],
   "source": [
    "print(np.histogram(count_1['percent_not_tipped'], bins=bins)[0]/ len(count_1) * 100)"
   ],
   "metadata": {
    "collapsed": false
   }
  },
  {
   "cell_type": "code",
   "execution_count": null,
   "outputs": [],
   "source": [
    "weekday_data = similar_distance_data[similar_distance_data['pickup_day_range'] == 'weekday']\n",
    "weekend_data = similar_distance_data[similar_distance_data['pickup_day_range'] == 'weekend']\n",
    "bins = np.arange(-0.1, 0.4, 0.01)\n",
    "\n",
    "weekday_pct = np.histogram(weekday_data['percent_not_tipped'], bins=bins)[0] / len(weekday_data) * 100 -np.histogram(weekend_data['percent_not_tipped'], bins=bins)[0] / len(weekend_data) * 100\n",
    "# weekend_pct =\n",
    "\n",
    "# Define the x-axis labels for the bins\n",
    "bin_labels = [(bins[i] + bins[i+1]) / 2 for i in range(len(bins)-1)]\n",
    "\n",
    "colors = ['red', 'blue', 'green', 'yellow']\n",
    "\n",
    "fig, ax = plt.subplots(figsize=(8, 6))\n",
    "ax.plot(bin_labels, weekday_pct, label='weekday', color=colors[0])\n",
    "# ax.plot(bin_labels, weekend_pct, label='weekend', color=colors[1])\n",
    "\n",
    "ax.set_xlabel('Percent Not Tipped')\n",
    "ax.set_ylabel('Percentage of Passengers')\n",
    "ax.set_title('Percentage of Passengers by Percent Tipped and Pickup Hour Range')\n",
    "ax.legend()\n",
    "plt.figure(figsize=(240,120))\n",
    "plt.show()"
   ],
   "metadata": {
    "collapsed": false
   }
  },
  {
   "cell_type": "code",
   "execution_count": null,
   "outputs": [],
   "source": [],
   "metadata": {
    "collapsed": false
   }
  },
  {
   "cell_type": "code",
   "execution_count": null,
   "outputs": [],
   "source": [
    "# num_zero_tips = ((similar_distance_data['tip_amount'] == 0) & (similar_distance_data['pickup_day_range'] == 'weekend')).sum()\n",
    "num_zero_tips = ((similar_distance_data['tip_amount'] == 0) & (similar_distance_data['pickup_day_range'] == 'weekday')).sum()\n",
    "# Calculate the total number of tip amounts\n",
    "# print(num_zero_tips)\n",
    "total_tips = len(similar_distance_data['pickup_day_range'] == 'weekday')\n",
    "# total_tips = len(similar_distance_data['pickup_day_range'] == 'weekend')\n",
    "# Calculate the ratio of zero tips to total tips\n",
    "zero_tip_ratio = num_zero_tips / total_tips\n",
    "\n",
    "# Calculate the ratio of zero tips to non-zero tips\n",
    "nonzero_tip_ratio = (total_tips - num_zero_tips) / total_tips\n",
    "\n",
    "print(\"Ratio of zero tips to total tips: \", zero_tip_ratio)\n",
    "print(\"Ratio of non-zero tips to total tips: \", nonzero_tip_ratio)"
   ],
   "metadata": {
    "collapsed": false
   }
  },
  {
   "cell_type": "code",
   "execution_count": null,
   "outputs": [],
   "source": [],
   "metadata": {
    "collapsed": false
   }
  },
  {
   "cell_type": "code",
   "execution_count": null,
   "outputs": [],
   "source": [
    "\n",
    "# Filter the dataset for the required pickup hour ranges\n",
    "night_data = similar_distance_data[similar_distance_data['pickup_hour_range'] == 'night']\n",
    "evening_data = similar_distance_data[similar_distance_data['pickup_hour_range'] == 'evening']\n",
    "morning_data = similar_distance_data[similar_distance_data['pickup_hour_range'] == 'morning']\n",
    "afternoon_data = similar_distance_data[similar_distance_data['pickup_hour_range'] == 'afternoon']\n",
    "\n",
    "# Define the bins for the percent_not_tipped values\n",
    "bins = np.arange(0, 0.4, 0.01)\n",
    "\n",
    "# Calculate the percentage of passengers falling in each bin for each pickup hour range\n",
    "night_pct = np.histogram(night_data['percent_not_tipped'], bins=bins)[0] / len(night_data) * 100\n",
    "evening_pct = np.histogram(evening_data['percent_not_tipped'], bins=bins)[0] / len(evening_data) * 100\n",
    "morning_pct = np.histogram(morning_data['percent_not_tipped'], bins=bins)[0] / len(morning_data) * 100\n",
    "afternoon_pct = np.histogram(afternoon_data['percent_not_tipped'], bins=bins)[0] / len(afternoon_data) * 100\n",
    "\n",
    "# Define the x-axis labels for the bins\n",
    "bin_labels = [(bins[i] + bins[i+1]) / 2 for i in range(len(bins)-1)]\n",
    "\n",
    "# Define the colors for each line\n",
    "colors = ['red', 'blue', 'green', 'yellow']\n",
    "\n",
    "# Plot the percentage of passengers in each bin for each pickup hour range\n",
    "fig, ax = plt.subplots(figsize=(8, 6))\n",
    "ax.plot(bin_labels, night_pct, label='Night', color=colors[0])\n",
    "ax.plot(bin_labels, evening_pct, label='Evening', color=colors[1])\n",
    "ax.plot(bin_labels, morning_pct, label='Morning', color=colors[2])\n",
    "ax.plot(bin_labels, afternoon_pct, label='Afternoon', color=colors[3])\n",
    "ax.set_xlabel('Percent Not Tipped')\n",
    "ax.set_ylabel('Percentage of Passengers')\n",
    "ax.set_title('Percentage of Passengers by Percent Tipped and Pickup Hour Range')\n",
    "ax.legend()\n",
    "plt.figure(figsize=(240,120))\n",
    "plt.show()\n",
    "\n"
   ],
   "metadata": {
    "collapsed": false
   }
  },
  {
   "cell_type": "code",
   "execution_count": null,
   "outputs": [],
   "source": [
    "# Calculate the number of zero tip amounts\n",
    "num_zero_tips = (data['tip_amount'] == 0).sum()\n",
    "\n",
    "# Calculate the total number of tip amounts\n",
    "total_tips = len(data)\n",
    "\n",
    "# Calculate the ratio of zero tips to total tips\n",
    "zero_tip_ratio = num_zero_tips / total_tips\n",
    "\n",
    "# Calculate the ratio of zero tips to non-zero tips\n",
    "nonzero_tip_ratio = (total_tips - num_zero_tips) / total_tips\n",
    "\n",
    "print(\"Ratio of zero tips to total tips: \", zero_tip_ratio)\n",
    "print(\"Ratio of non-zero tips to total tips: \", nonzero_tip_ratio)\n"
   ],
   "metadata": {
    "collapsed": false
   }
  },
  {
   "cell_type": "code",
   "execution_count": null,
   "outputs": [],
   "source": [],
   "metadata": {
    "collapsed": false
   }
  }
 ],
 "metadata": {
  "kernelspec": {
   "display_name": "Python 3",
   "language": "python",
   "name": "python3"
  },
  "language_info": {
   "codemirror_mode": {
    "name": "ipython",
    "version": 2
   },
   "file_extension": ".py",
   "mimetype": "text/x-python",
   "name": "python",
   "nbconvert_exporter": "python",
   "pygments_lexer": "ipython2",
   "version": "2.7.6"
  }
 },
 "nbformat": 4,
 "nbformat_minor": 0
}
